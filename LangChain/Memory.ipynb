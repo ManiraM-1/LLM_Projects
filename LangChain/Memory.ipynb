{
 "cells": [
  {
   "cell_type": "code",
   "execution_count": 8,
   "id": "a4e726dc-f5a8-4143-87e8-3a13815ec44f",
   "metadata": {},
   "outputs": [],
   "source": [
    "import os\n",
    "from langchain_google_genai import GoogleGenerativeAI\n",
    "from api_keys import gemini_api\n",
    "from langchain.chains import LLMChain\n",
    "\n",
    "# Set your Gemini API key\n",
    "os.environ[\"GOOGLE_API_KEY\"] = gemini_api"
   ]
  },
  {
   "cell_type": "code",
   "execution_count": 9,
   "id": "752722b5-51a4-4261-a05d-96a9af0717df",
   "metadata": {},
   "outputs": [
    {
     "ename": "NameError",
     "evalue": "name 'PromptTemplate' is not defined",
     "output_type": "error",
     "traceback": [
      "\u001b[1;31m---------------------------------------------------------------------------\u001b[0m",
      "\u001b[1;31mNameError\u001b[0m                                 Traceback (most recent call last)",
      "Cell \u001b[1;32mIn[9], line 3\u001b[0m\n\u001b[0;32m      1\u001b[0m llm_model \u001b[38;5;241m=\u001b[39m GoogleGenerativeAI(model \u001b[38;5;241m=\u001b[39m \u001b[38;5;124m\"\u001b[39m\u001b[38;5;124mgemini-1.5-pro\u001b[39m\u001b[38;5;124m\"\u001b[39m, temperature\u001b[38;5;241m=\u001b[39m\u001b[38;5;241m0.7\u001b[39m)\n\u001b[1;32m----> 3\u001b[0m prompt_template_name \u001b[38;5;241m=\u001b[39m PromptTemplate(\n\u001b[0;32m      4\u001b[0m     input_variables\u001b[38;5;241m=\u001b[39m[\u001b[38;5;124m'\u001b[39m\u001b[38;5;124mcuisine\u001b[39m\u001b[38;5;124m'\u001b[39m],\n\u001b[0;32m      5\u001b[0m     template \u001b[38;5;241m=\u001b[39m \u001b[38;5;124m\"\u001b[39m\u001b[38;5;124mI would love to open an \u001b[39m\u001b[38;5;132;01m{cuisine}\u001b[39;00m\u001b[38;5;124m Restaurant. Suggest a fancy and attractive name for it, just a name\u001b[39m\u001b[38;5;124m\"\u001b[39m\n\u001b[0;32m      6\u001b[0m )\n",
      "\u001b[1;31mNameError\u001b[0m: name 'PromptTemplate' is not defined"
     ]
    }
   ],
   "source": [
    "llm_model = GoogleGenerativeAI(model = \"gemini-1.5-pro\", temperature=0.7)\n",
    "\n",
    "prompt_template_name = PromptTemplate(\n",
    "    input_variables=['cuisine'],\n",
    "    template = \"I would love to open an {cuisine} Restaurant. Suggest a fancy and attractive name for it, just a name\"\n",
    ")"
   ]
  },
  {
   "cell_type": "code",
   "execution_count": 5,
   "id": "68d645d6-cdda-4d34-a17d-416b5704563b",
   "metadata": {},
   "outputs": [],
   "source": [
    "# Inorder to remeber the previous convo/context, for example, if you're building a chatbot, previous convosersation is required \n",
    "# so, some data has to be stored \n",
    "# Langchain provides this functionality too."
   ]
  },
  {
   "cell_type": "code",
   "execution_count": 6,
   "id": "47f1a1b3-0560-4d05-96bd-cde791bfe4e8",
   "metadata": {},
   "outputs": [
    {
     "ename": "NameError",
     "evalue": "name 'prompt_template_name' is not defined",
     "output_type": "error",
     "traceback": [
      "\u001b[1;31m---------------------------------------------------------------------------\u001b[0m",
      "\u001b[1;31mNameError\u001b[0m                                 Traceback (most recent call last)",
      "Cell \u001b[1;32mIn[6], line 4\u001b[0m\n\u001b[0;32m      1\u001b[0m \u001b[38;5;28;01mfrom\u001b[39;00m \u001b[38;5;21;01mlangchain\u001b[39;00m\u001b[38;5;21;01m.\u001b[39;00m\u001b[38;5;21;01mmemory\u001b[39;00m \u001b[38;5;28;01mimport\u001b[39;00m ConversationBufferMemory\n\u001b[0;32m      3\u001b[0m memory \u001b[38;5;241m=\u001b[39m ConversationBufferMemory()\n\u001b[1;32m----> 4\u001b[0m name_chain \u001b[38;5;241m=\u001b[39m LLMChain(llm \u001b[38;5;241m=\u001b[39m llm_model, prompt\u001b[38;5;241m=\u001b[39mprompt_template_name, memory\u001b[38;5;241m=\u001b[39mmemory)\n\u001b[0;32m      5\u001b[0m name \u001b[38;5;241m=\u001b[39m name_chain\u001b[38;5;241m.\u001b[39mrun(\u001b[38;5;124m\"\u001b[39m\u001b[38;5;124mMexican\u001b[39m\u001b[38;5;124m\"\u001b[39m)\n\u001b[0;32m      6\u001b[0m \u001b[38;5;28mprint\u001b[39m(name)\n",
      "\u001b[1;31mNameError\u001b[0m: name 'prompt_template_name' is not defined"
     ]
    }
   ],
   "source": [
    "from langchain.memory import ConversationBufferMemory\n",
    "\n",
    "memory = ConversationBufferMemory()\n",
    "name_chain = LLMChain(llm = llm_model, prompt=prompt_template_name, memory=memory)\n",
    "name = name_chain.run(\"Mexican\")\n",
    "print(name)"
   ]
  },
  {
   "cell_type": "code",
   "execution_count": null,
   "id": "6e3a7ae5-ca54-4daf-8648-2d2bc6400b9a",
   "metadata": {},
   "outputs": [],
   "source": [
    "name = name_chain.run(\"Indian\")\n",
    "print(name)"
   ]
  },
  {
   "cell_type": "code",
   "execution_count": null,
   "id": "7cb9f17c-ec66-472e-b19b-22ea54ac2be1",
   "metadata": {},
   "outputs": [],
   "source": [
    "print(name_chain.memory.buffer)"
   ]
  },
  {
   "cell_type": "code",
   "execution_count": null,
   "id": "dd03afab-22a7-458d-af65-9c16316ffeb6",
   "metadata": {},
   "outputs": [],
   "source": [
    "# we have to restrict the buffer size, to something like, remeber past 5 exchanges in coversation\n",
    "# coz, when we use Conversational Buffer Memory,It starts storing all the info endlessly\n",
    "\n",
    "# When, we start running the chain, all the past remembered data/ stored data is transferred to llm.\n",
    "# and the llm charges us based on the no. of tokens (it considers each word in covo as token) and our cost of usage increases.\n",
    "# so, it is a better practice to restrict the data storage inorder to reduce the cost "
   ]
  },
  {
   "cell_type": "code",
   "execution_count": null,
   "id": "cc9f1bb4-7b61-4ca9-b51c-9c2cb84ddfe6",
   "metadata": {},
   "outputs": [],
   "source": [
    "from langchain.chains import ConversationChain\n",
    "convo = ConversationChain(llm = GoogleGenerativeAI(model = \"gemini-1.5-pro\", temperature = 0.7))\n",
    "print(convo.prompt.template)"
   ]
  },
  {
   "cell_type": "code",
   "execution_count": null,
   "id": "b74a2237-782c-487e-bd0c-e885e24b54c6",
   "metadata": {},
   "outputs": [],
   "source": [
    "convo.run(\"who won the first ipl cup (which team)?\")"
   ]
  },
  {
   "cell_type": "code",
   "execution_count": null,
   "id": "894f3507-0766-4f93-b302-2a98ecdefc6c",
   "metadata": {},
   "outputs": [],
   "source": [
    "convo.run(\"whats 5 + 5 = ?\")"
   ]
  },
  {
   "cell_type": "code",
   "execution_count": null,
   "id": "d35ff327-1ba2-437a-91c5-d622e352fa58",
   "metadata": {},
   "outputs": [],
   "source": []
  }
 ],
 "metadata": {
  "kernelspec": {
   "display_name": "Python 3 (ipykernel)",
   "language": "python",
   "name": "python3"
  },
  "language_info": {
   "codemirror_mode": {
    "name": "ipython",
    "version": 3
   },
   "file_extension": ".py",
   "mimetype": "text/x-python",
   "name": "python",
   "nbconvert_exporter": "python",
   "pygments_lexer": "ipython3",
   "version": "3.12.7"
  }
 },
 "nbformat": 4,
 "nbformat_minor": 5
}
