{
 "cells": [
  {
   "cell_type": "code",
   "execution_count": 8,
   "id": "a4e726dc-f5a8-4143-87e8-3a13815ec44f",
   "metadata": {},
   "outputs": [],
   "source": [
    "import os\n",
    "from langchain_google_genai import GoogleGenerativeAI\n",
    "from api_keys import gemini_api\n",
    "from langchain.chains import LLMChain\n",
    "\n",
    "# Set your Gemini API key\n",
    "os.environ[\"GOOGLE_API_KEY\"] = gemini_api"
   ]
  },
  {
   "cell_type": "code",
   "execution_count": 10,
   "id": "752722b5-51a4-4261-a05d-96a9af0717df",
   "metadata": {},
   "outputs": [],
   "source": [
    "llm_model = GoogleGenerativeAI(model = \"gemini-1.5-pro\", temperature=0.7)\n",
    "\n",
    "from langchain.prompts import PromptTemplate\n",
    "prompt_template_name = PromptTemplate(\n",
    "    input_variables=['cuisine'],\n",
    "    template = \"I would love to open an {cuisine} Restaurant. Suggest a fancy and attractive name for it, just a name\"\n",
    ")"
   ]
  },
  {
   "cell_type": "code",
   "execution_count": 11,
   "id": "68d645d6-cdda-4d34-a17d-416b5704563b",
   "metadata": {},
   "outputs": [],
   "source": [
    "# Inorder to remeber the previous convo/context, for example, if you're building a chatbot, previous convosersation is required \n",
    "# so, some data has to be stored \n",
    "# Langchain provides this functionality too."
   ]
  },
  {
   "cell_type": "code",
   "execution_count": 12,
   "id": "47f1a1b3-0560-4d05-96bd-cde791bfe4e8",
   "metadata": {},
   "outputs": [
    {
     "name": "stderr",
     "output_type": "stream",
     "text": [
      "C:\\Users\\Maniram\\AppData\\Local\\Temp\\ipykernel_19516\\4185084812.py:4: LangChainDeprecationWarning: The class `LLMChain` was deprecated in LangChain 0.1.17 and will be removed in 1.0. Use :meth:`~RunnableSequence, e.g., `prompt | llm`` instead.\n",
      "  name_chain = LLMChain(llm = llm_model, prompt=prompt_template_name, memory=memory)\n",
      "C:\\Users\\Maniram\\AppData\\Local\\Temp\\ipykernel_19516\\4185084812.py:5: LangChainDeprecationWarning: The method `Chain.run` was deprecated in langchain 0.1.0 and will be removed in 1.0. Use :meth:`~invoke` instead.\n",
      "  name = name_chain.run(\"Mexican\")\n"
     ]
    },
    {
     "name": "stdout",
     "output_type": "stream",
     "text": [
      "Azalea Cantina\n"
     ]
    }
   ],
   "source": [
    "from langchain.memory import ConversationBufferMemory\n",
    "\n",
    "memory = ConversationBufferMemory()\n",
    "name_chain = LLMChain(llm = llm_model, prompt=prompt_template_name, memory=memory)\n",
    "name = name_chain.run(\"Mexican\")\n",
    "print(name)"
   ]
  },
  {
   "cell_type": "code",
   "execution_count": 13,
   "id": "6e3a7ae5-ca54-4daf-8648-2d2bc6400b9a",
   "metadata": {},
   "outputs": [
    {
     "name": "stdout",
     "output_type": "stream",
     "text": [
      "Maharani\n"
     ]
    }
   ],
   "source": [
    "name = name_chain.run(\"Indian\")\n",
    "print(name)"
   ]
  },
  {
   "cell_type": "code",
   "execution_count": 14,
   "id": "7cb9f17c-ec66-472e-b19b-22ea54ac2be1",
   "metadata": {},
   "outputs": [
    {
     "name": "stdout",
     "output_type": "stream",
     "text": [
      "Human: Mexican\n",
      "AI: Azalea Cantina\n",
      "Human: Indian\n",
      "AI: Maharani\n"
     ]
    }
   ],
   "source": [
    "print(name_chain.memory.buffer)"
   ]
  },
  {
   "cell_type": "code",
   "execution_count": 15,
   "id": "dd03afab-22a7-458d-af65-9c16316ffeb6",
   "metadata": {},
   "outputs": [],
   "source": [
    "# we have to restrict the buffer size, to something like, remeber past 5 exchanges in coversation\n",
    "# coz, when we use Conversational Buffer Memory,It starts storing all the info endlessly\n",
    "\n",
    "# When, we start running the chain, all the past remembered data/ stored data is transferred to llm.\n",
    "# and the llm charges us based on the no. of tokens (it considers each word in covo as token) and our cost of usage increases.\n",
    "# so, it is a better practice to restrict the data storage inorder to reduce the cost "
   ]
  },
  {
   "cell_type": "code",
   "execution_count": 16,
   "id": "cc9f1bb4-7b61-4ca9-b51c-9c2cb84ddfe6",
   "metadata": {},
   "outputs": [
    {
     "name": "stdout",
     "output_type": "stream",
     "text": [
      "The following is a friendly conversation between a human and an AI. The AI is talkative and provides lots of specific details from its context. If the AI does not know the answer to a question, it truthfully says it does not know.\n",
      "\n",
      "Current conversation:\n",
      "{history}\n",
      "Human: {input}\n",
      "AI:\n"
     ]
    },
    {
     "name": "stderr",
     "output_type": "stream",
     "text": [
      "C:\\Users\\Maniram\\AppData\\Local\\Temp\\ipykernel_19516\\2043743717.py:2: LangChainDeprecationWarning: The class `ConversationChain` was deprecated in LangChain 0.2.7 and will be removed in 1.0. Use :meth:`~RunnableWithMessageHistory: https://python.langchain.com/v0.2/api_reference/core/runnables/langchain_core.runnables.history.RunnableWithMessageHistory.html` instead.\n",
      "  convo = ConversationChain(llm = GoogleGenerativeAI(model = \"gemini-1.5-pro\", temperature = 0.7))\n"
     ]
    }
   ],
   "source": [
    "from langchain.chains import ConversationChain\n",
    "convo = ConversationChain(llm = GoogleGenerativeAI(model = \"gemini-1.5-pro\", temperature = 0.7))\n",
    "print(convo.prompt.template)"
   ]
  },
  {
   "cell_type": "code",
   "execution_count": 17,
   "id": "b74a2237-782c-487e-bd0c-e885e24b54c6",
   "metadata": {},
   "outputs": [
    {
     "data": {
      "text/plain": [
       "'The Rajasthan Royals won the inaugural Indian Premier League (IPL) tournament in 2008.  They defeated the Chennai Super Kings in a thrilling final match held at the DY Patil Stadium in Navi Mumbai on June 1, 2008.  Rajasthan Royals, led by Shane Warne, chased down a target of 164 runs, winning by 3 wickets with Yusuf Pathan playing a crucial innings.'"
      ]
     },
     "execution_count": 17,
     "metadata": {},
     "output_type": "execute_result"
    }
   ],
   "source": [
    "convo.run(\"who won the first ipl cup (which team)?\")"
   ]
  },
  {
   "cell_type": "code",
   "execution_count": 19,
   "id": "894f3507-0766-4f93-b302-2a98ecdefc6c",
   "metadata": {},
   "outputs": [
    {
     "data": {
      "text/plain": [
       "'5 + 5 = 10.'"
      ]
     },
     "execution_count": 19,
     "metadata": {},
     "output_type": "execute_result"
    }
   ],
   "source": [
    "convo.run(\"whats 5 + 5 = ?\")"
   ]
  },
  {
   "cell_type": "code",
   "execution_count": 20,
   "id": "c3fa21ca-125d-4d09-9038-27ae7789e6ab",
   "metadata": {},
   "outputs": [
    {
     "data": {
      "text/plain": [
       "'Shane Warne was the captain of the Rajasthan Royals when they won the inaugural IPL in 2008.'"
      ]
     },
     "execution_count": 20,
     "metadata": {},
     "output_type": "execute_result"
    }
   ],
   "source": [
    "convo.run(\"who was the captain of that team ?\")"
   ]
  },
  {
   "cell_type": "code",
   "execution_count": 21,
   "id": "d35ff327-1ba2-437a-91c5-d622e352fa58",
   "metadata": {},
   "outputs": [
    {
     "name": "stdout",
     "output_type": "stream",
     "text": [
      "Human: who won the first ipl cup (which team)?\n",
      "AI: The Rajasthan Royals won the inaugural Indian Premier League (IPL) tournament in 2008.  They defeated the Chennai Super Kings in a thrilling final match held at the DY Patil Stadium in Navi Mumbai on June 1, 2008.  Rajasthan Royals, led by Shane Warne, chased down a target of 164 runs, winning by 3 wickets with Yusuf Pathan playing a crucial innings.\n",
      "Human: whats 5 + 5 = ?\n",
      "AI: 5 + 5 = 10.\n",
      "Human: who was the captain of that team ?\n",
      "AI: Shane Warne was the captain of the Rajasthan Royals when they won the inaugural IPL in 2008.\n"
     ]
    }
   ],
   "source": [
    "print(convo.memory.buffer)"
   ]
  },
  {
   "cell_type": "code",
   "execution_count": null,
   "id": "61bc0153-06cc-43a1-b382-fd72613e6d40",
   "metadata": {},
   "outputs": [],
   "source": []
  }
 ],
 "metadata": {
  "kernelspec": {
   "display_name": "Python 3 (ipykernel)",
   "language": "python",
   "name": "python3"
  },
  "language_info": {
   "codemirror_mode": {
    "name": "ipython",
    "version": 3
   },
   "file_extension": ".py",
   "mimetype": "text/x-python",
   "name": "python",
   "nbconvert_exporter": "python",
   "pygments_lexer": "ipython3",
   "version": "3.12.7"
  }
 },
 "nbformat": 4,
 "nbformat_minor": 5
}
